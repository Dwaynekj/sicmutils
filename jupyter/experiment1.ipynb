{
 "cells": [
  {
   "cell_type": "markdown",
   "metadata": {},
   "source": [
    "### A notebook for using sicmutils in Jupyter\n",
    "\n",
    "This is basically an early smoke-test to see if these will render in GitHub. The following will become the boilerplate needed to bootstrap sicmutils into Jupyter."
   ]
  },
  {
   "cell_type": "code",
   "execution_count": 7,
   "metadata": {},
   "outputs": [],
   "source": [
    "(require '[clojupyter.misc.helper :as helper]\n",
    "         '[clojupyter.misc.display :as display]\n",
    "         '[clojupyter.protocol.mime-convertible :as mc])\n",
    "(helper/add-dependencies '[net.littleredcomputer/sicmutils \"0.10.0\"])\n",
    "(ns foo\n",
    "    (:refer-clojure :exclude [partial zero? + - * / ref])\n",
    "    (:require [sicmutils [env :refer :all]]))"
   ]
  },
  {
   "cell_type": "markdown",
   "metadata": {},
   "source": [
    "When you run the sicmutils REPL, the result of evaluating expressions is passed to the simplifier and then pretty-printed behind the scenes. In Jupyter, we need to recover that step, by using print-expression manually."
   ]
  },
  {
   "cell_type": "code",
   "execution_count": 8,
   "metadata": {},
   "outputs": [
    {
     "name": "stdout",
     "output_type": "stream",
     "text": [
      "(cos x)\n"
     ]
    }
   ],
   "source": [
    "(print-expression \n",
    "    ((D sin) 'x))"
   ]
  },
  {
   "cell_type": "markdown",
   "metadata": {},
   "source": [
    "Here are some gadgets to request LaTeX rendering of results.  "
   ]
  },
  {
   "cell_type": "code",
   "execution_count": 18,
   "metadata": {},
   "outputs": [
    {
     "data": {
      "text/plain": [
       "#'foo/tex$$"
      ]
     },
     "execution_count": 18,
     "metadata": {},
     "output_type": "execute_result"
    }
   ],
   "source": [
    "(defn as-mime [type data] \n",
    "    (reify mc/PMimeConvertible\n",
    "    (to-mime [_] (mc/stream-to-string {type data}))))    \n",
    "(defn tex$ [a] (as-mime :text/latex (str \"$\" (->TeX (simplify a)) \"$\")))\n",
    "(defn tex$$ [a] (as-mime :text/latex (str \"\\\\[\\\\displaystyle\" (->TeX (simplify a)) \"\\\\]\")))"
   ]
  },
  {
   "cell_type": "code",
   "execution_count": 19,
   "metadata": {},
   "outputs": [
    {
     "data": {
      "text/latex": [
       "\\[\\displaystyle\\frac{1}{{\\cos}^{2}\\left(x\\right)}\\]"
      ]
     },
     "execution_count": 19,
     "metadata": {},
     "output_type": "execute_result"
    }
   ],
   "source": [
    "(tex$$\n",
    "    ((D tan) 'x))"
   ]
  },
  {
   "cell_type": "code",
   "execution_count": 20,
   "metadata": {},
   "outputs": [
    {
     "data": {
      "text/plain": [
       "#'foo/sine-series"
      ]
     },
     "execution_count": 20,
     "metadata": {},
     "output_type": "execute_result"
    }
   ],
   "source": [
    "(def sine-series (((exp (* 'epsilon D))\n",
    "     sin) 0))"
   ]
  },
  {
   "cell_type": "code",
   "execution_count": 21,
   "metadata": {},
   "outputs": [
    {
     "data": {
      "text/latex": [
       "\\[\\displaystyle\\frac{-1}{5040}\\,{\\epsilon}^{7} + \\frac{1}{120}\\,{\\epsilon}^{5} + \\frac{-1}{6}\\,{\\epsilon}^{3} + \\epsilon\\]"
      ]
     },
     "execution_count": 21,
     "metadata": {},
     "output_type": "execute_result"
    }
   ],
   "source": [
    "(tex$$ \n",
    "        (simplify (series:sum sine-series 8)))"
   ]
  },
  {
   "cell_type": "code",
   "execution_count": null,
   "metadata": {},
   "outputs": [],
   "source": []
  }
 ],
 "metadata": {
  "kernelspec": {
   "display_name": "Clojure",
   "language": "clojure",
   "name": "clojure"
  },
  "language_info": {
   "file_extension": ".clj",
   "mimetype": "text/x-clojure",
   "name": "clojure",
   "version": "1.8.0"
  }
 },
 "nbformat": 4,
 "nbformat_minor": 2
}
