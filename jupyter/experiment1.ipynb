{
 "cells": [
  {
   "cell_type": "markdown",
   "metadata": {},
   "source": [
    "### A notebook for using sicmutils in Jupyter\n",
    "\n",
    "This is basically an early smoke-test to see if these will render in GitHub. The following will become the boilerplate needed to bootstrap sicmutils into Jupyter."
   ]
  },
  {
   "cell_type": "code",
   "execution_count": 22,
   "metadata": {},
   "outputs": [],
   "source": [
    "(require '[clojupyter.misc.helper :as helper])\n",
    "(helper/add-dependencies '[net.littleredcomputer/sicmutils \"0.11.0-SNAPSHOT\"])\n",
    "(ns foo\n",
    "    (:refer-clojure :exclude [partial zero? + - * / ref])\n",
    "    (:require [sicmutils [env :refer :all]]))"
   ]
  },
  {
   "cell_type": "markdown",
   "metadata": {},
   "source": [
    "When you run the sicmutils REPL, the result of evaluating expressions is passed to the simplifier and then pretty-printed behind the scenes. In Jupyter, we need to recover that step, by using print-expression manually."
   ]
  },
  {
   "cell_type": "code",
   "execution_count": 23,
   "metadata": {},
   "outputs": [
    {
     "name": "stdout",
     "output_type": "stream",
     "text": [
      "(cos x)\n"
     ]
    }
   ],
   "source": [
    "(print-expression \n",
    "    ((D sin) 'x))"
   ]
  },
  {
   "cell_type": "markdown",
   "metadata": {},
   "source": [
    "Here are some gadgets to request LaTeX rendering of results.  "
   ]
  },
  {
   "cell_type": "code",
   "execution_count": 24,
   "metadata": {},
   "outputs": [
    {
     "data": {
      "text/latex": [
       "\\[\\displaystyle\\frac{1}{{\\cos}^{2}\\left(x\\right)}\\]"
      ]
     },
     "execution_count": 24,
     "metadata": {},
     "output_type": "execute_result"
    }
   ],
   "source": [
    "(tex$$\n",
    "    ((D tan) 'x))"
   ]
  },
  {
   "cell_type": "code",
   "execution_count": 25,
   "metadata": {},
   "outputs": [
    {
     "data": {
      "text/plain": [
       "#'foo/sine-series"
      ]
     },
     "execution_count": 25,
     "metadata": {},
     "output_type": "execute_result"
    }
   ],
   "source": [
    "(def sine-series (((exp (* 'epsilon D))\n",
    "     sin) 0))"
   ]
  },
  {
   "cell_type": "code",
   "execution_count": 26,
   "metadata": {},
   "outputs": [
    {
     "data": {
      "text/latex": [
       "\\[\\displaystyle\\frac{-1}{5040}\\,{\\epsilon}^{7} + \\frac{1}{120}\\,{\\epsilon}^{5} + \\frac{-1}{6}\\,{\\epsilon}^{3} + \\epsilon\\]"
      ]
     },
     "execution_count": 26,
     "metadata": {},
     "output_type": "execute_result"
    }
   ],
   "source": [
    "(tex$$ \n",
    "        (simplify (series:sum sine-series 8)))"
   ]
  },
  {
   "cell_type": "code",
   "execution_count": null,
   "metadata": {},
   "outputs": [],
   "source": []
  }
 ],
 "metadata": {
  "kernelspec": {
   "display_name": "Clojure",
   "language": "clojure",
   "name": "clojure"
  },
  "language_info": {
   "file_extension": ".clj",
   "mimetype": "text/x-clojure",
   "name": "clojure",
   "version": "1.8.0"
  }
 },
 "nbformat": 4,
 "nbformat_minor": 2
}
